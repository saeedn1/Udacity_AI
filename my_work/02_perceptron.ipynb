{
 "cells": [
  {
   "cell_type": "code",
   "execution_count": 34,
   "metadata": {},
   "outputs": [],
   "source": [
    "import numpy as np\n",
    "# Setting the random seed, feel free to change it and see different solutions.\n",
    "np.random.seed(42)\n",
    "\n",
    "def stepFunction(t):\n",
    "    if t >= 0:\n",
    "        return 1\n",
    "    return 0\n",
    "\n",
    "def prediction(X, W, b):\n",
    "    return stepFunction((np.matmul(X,W)+b)[0])\n",
    "\n",
    "# TODO: Fill in the code below to implement the perceptron trick.\n",
    "# The function should receive as inputs the data X, the labels y,\n",
    "# the weights W (as an array), and the bias b,\n",
    "# update the weights and bias W, b, according to the perceptron algorithm,\n",
    "# and return W and b.\n",
    "\n",
    "def perceptronStep(X, y, W, b, learn_rate = 0.01):\n",
    "    # Fill in code\n",
    "    for i in range(len(X)):\n",
    "        y_hat = prediction(X[i],W,b)\n",
    "        if y[i]-y_hat == 1:\n",
    "            W[0] += X[i][0]*learn_rate\n",
    "            W[1] += X[i][1]*learn_rate\n",
    "            b += learn_rate\n",
    "        elif y[i]-y_hat == -1:\n",
    "            W[0] -= X[i][0]*learn_rate\n",
    "            W[1] -= X[i][1]*learn_rate\n",
    "            b -= learn_rate\n",
    "    return W, b\n",
    "    \n",
    "# This function runs the perceptron algorithm repeatedly on the dataset,\n",
    "# and returns a few of the boundary lines obtained in the iterations,\n",
    "# for plotting purposes.\n",
    "# Feel free to play with the learning rate and the num_epochs,\n",
    "# and see your results plotted below.\n",
    "def trainPerceptronAlgorithm(X, y, learn_rate = 0.01, num_epochs = 25):\n",
    "    x_min, x_max = min(X.T[0]), max(X.T[0])\n",
    "    y_min, y_max = min(X.T[1]), max(X.T[1])\n",
    "    W = np.array(np.random.rand(2,1))\n",
    "    b = np.random.rand(1)[0] + x_max\n",
    "    # These are the solution lines that get plotted below.\n",
    "    boundary_lines = []\n",
    "    for i in range(num_epochs):\n",
    "        # In each epoch, we apply the perceptron step.\n",
    "        W, b = perceptronStep(X, y, W, b, learn_rate)\n",
    "        boundary_lines.append((-W[0]/W[1], -b/W[1]))\n",
    "    return boundary_lines\n",
    "\n"
   ]
  },
  {
   "cell_type": "code",
   "execution_count": 38,
   "metadata": {},
   "outputs": [
    {
     "data": {
      "text/plain": [
       "[(array([0.55152414]), array([-2.13117352])),\n",
       " (array([3.75673789]), array([-3.59593078])),\n",
       " (array([55.12356555]), array([-27.42299077])),\n",
       " (array([-66.92361128]), array([30.27413562])),\n",
       " (array([-27.98727507]), array([12.7461482])),\n",
       " (array([-19.2926987]), array([9.15303058])),\n",
       " (array([-13.64472063]), array([6.51809159])),\n",
       " (array([-12.14652179]), array([6.04906022])),\n",
       " (array([-10.64754883]), array([5.34407081])),\n",
       " (array([-9.46150222]), array([4.78625534])),\n",
       " (array([-9.11638068]), array([4.8096319])),\n",
       " (array([-8.37738427]), array([4.45849432])),\n",
       " (array([-7.56145983]), array([3.92361156])),\n",
       " (array([-7.1540751]), array([3.74292553])),\n",
       " (array([-6.78255947]), array([3.5781484])),\n",
       " (array([-6.44237543]), array([3.42726768])),\n",
       " (array([-6.12971985]), array([3.28859656])),\n",
       " (array([-5.84138118]), array([3.16071064])),\n",
       " (array([-5.57462872]), array([3.04239879])),\n",
       " (array([-5.32712588]), array([2.93262466])),\n",
       " (array([-5.09686157]), array([2.83049628])),\n",
       " (array([-4.88209541]), array([2.73524174])),\n",
       " (array([-4.68131366]), array([2.64618966])),\n",
       " (array([-4.4931935]), array([2.56275333])),\n",
       " (array([-4.31657386]), array([2.4844178]))]"
      ]
     },
     "execution_count": 38,
     "metadata": {},
     "output_type": "execute_result"
    }
   ],
   "source": [
    "import pandas as pd \n",
    "\n",
    "traning_dst = pd.read_csv(\"02_data.csv\", header=0, index_col=None)\n",
    "\n",
    "X = np.array(traning_dst.iloc[:,:2])\n",
    "y = np.array(traning_dst.iloc[:,2])\n",
    "\n",
    "trainPerceptronAlgorithm(X, y, learn_rate = 0.01, num_epochs = 25)\n"
   ]
  }
 ],
 "metadata": {
  "kernelspec": {
   "display_name": "Python 3",
   "language": "python",
   "name": "python3"
  },
  "language_info": {
   "codemirror_mode": {
    "name": "ipython",
    "version": 3
   },
   "file_extension": ".py",
   "mimetype": "text/x-python",
   "name": "python",
   "nbconvert_exporter": "python",
   "pygments_lexer": "ipython3",
   "version": "3.8.3"
  },
  "orig_nbformat": 4
 },
 "nbformat": 4,
 "nbformat_minor": 2
}
